{
 "cells": [
  {
   "cell_type": "code",
   "execution_count": 119,
   "metadata": {},
   "outputs": [],
   "source": [
    "import matplotlib.pyplot as plt\n",
    "import matplotlib\n",
    "\n",
    "import pandas as pd\n",
    "import numpy as np\n",
    "import seaborn as sns\n",
    "import json\n",
    "\n",
    "import catboost as cat\n",
    "import shap\n",
    "\n",
    "from sklearn.model_selection import train_test_split\n",
    "from sklearn.model_selection import GridSearchCV\n",
    "from sklearn.model_selection import RandomizedSearchCV\n",
    "from sklearn.model_selection import KFold\n",
    "\n",
    "from sklearn.metrics import mean_squared_error\n",
    "from sklearn.metrics import classification_report\n",
    "from sklearn import preprocessing\n",
    "from sklearn.metrics import precision_recall_curve\n",
    "from sklearn.metrics import auc\n",
    "from sklearn.metrics import roc_auc_score\n",
    "from sklearn.metrics import roc_curve\n",
    "\n",
    "import warnings\n",
    "warnings.filterwarnings('ignore')"
   ]
  },
  {
   "cell_type": "code",
   "execution_count": null,
   "metadata": {},
   "outputs": [],
   "source": [
    "def read_model(file_name):\n",
    "    model = cat.CatBoostClassifier() \n",
    "    model.load_model('second_model_11f')\n",
    "    return(model)"
   ]
  },
  {
   "cell_type": "code",
   "execution_count": 261,
   "metadata": {},
   "outputs": [],
   "source": [
    "def read_json(file_name):\n",
    "    \n",
    "    with open(file_name, \"r\") as read_file:\n",
    "        data = json.load(read_file)\n",
    "    return(pd.DataFrame(data).T)"
   ]
  },
  {
   "cell_type": "code",
   "execution_count": 262,
   "metadata": {},
   "outputs": [],
   "source": [
    "f29p = read_json(\"positive.json\")\n",
    "f29n = read_json(\"negative_set_polb.json\")"
   ]
  },
  {
   "cell_type": "code",
   "execution_count": 263,
   "metadata": {},
   "outputs": [
    {
     "name": "stdout",
     "output_type": "stream",
     "text": [
      "(276, 10)\n",
      "(2003, 10)\n"
     ]
    }
   ],
   "source": [
    "print(f29p.shape)\n",
    "print(f29n.shape)"
   ]
  },
  {
   "cell_type": "code",
   "execution_count": 264,
   "metadata": {},
   "outputs": [
    {
     "data": {
      "text/plain": [
       "(2279, 11)"
      ]
     },
     "execution_count": 264,
     "metadata": {},
     "output_type": "execute_result"
    }
   ],
   "source": [
    "f29p[\"target\"] = [1 for i in range(f29p.shape[0])]\n",
    "f29n[\"target\"] = [0 for i in range(f29n.shape[0])]\n",
    "\n",
    "f29 = pd.concat([f29p, f29n])\n",
    "f29.shape"
   ]
  },
  {
   "cell_type": "code",
   "execution_count": 249,
   "metadata": {
    "scrolled": true
   },
   "outputs": [
    {
     "data": {
      "text/html": [
       "<div>\n",
       "<style scoped>\n",
       "    .dataframe tbody tr th:only-of-type {\n",
       "        vertical-align: middle;\n",
       "    }\n",
       "\n",
       "    .dataframe tbody tr th {\n",
       "        vertical-align: top;\n",
       "    }\n",
       "\n",
       "    .dataframe thead th {\n",
       "        text-align: right;\n",
       "    }\n",
       "</style>\n",
       "<table border=\"1\" class=\"dataframe\">\n",
       "  <thead>\n",
       "    <tr style=\"text-align: right;\">\n",
       "      <th></th>\n",
       "      <th>catalytic</th>\n",
       "      <th>dntp_binding</th>\n",
       "      <th>primer_binding</th>\n",
       "      <th>exonuclease</th>\n",
       "      <th>Mg</th>\n",
       "      <th>replication_activity</th>\n",
       "      <th>conservative</th>\n",
       "      <th>ssbonds</th>\n",
       "      <th>pockets</th>\n",
       "      <th>coevolution</th>\n",
       "      <th>target</th>\n",
       "    </tr>\n",
       "  </thead>\n",
       "  <tbody>\n",
       "    <tr>\n",
       "      <td>tr|A0A2S1GQF7|A0A2S1GQF7_9CAUD</td>\n",
       "      <td>[M, P, P]</td>\n",
       "      <td>[Y, Q, K, A, G, Y, Y]</td>\n",
       "      <td>[V, S, D, V, N, R, -, F]</td>\n",
       "      <td>[A, Q, K, E, M, L, L, Y, K, Y, Y, N, A, G, C, P]</td>\n",
       "      <td>[K, N, D, L, M, P]</td>\n",
       "      <td>[F, N, Y, F, M, F, P, G, A, -, D, S, Y, S, N, ...</td>\n",
       "      <td>[P, Y, D, G, S, L, K, Y, I, V, D, L, K, G, E, ...</td>\n",
       "      <td>[[I, M], [V, L], [F, V], [N, C]]</td>\n",
       "      <td>[I, -, -, -, V, -]</td>\n",
       "      <td>[[G, Y], [N, G], [N, Q], [G, V], [N, -], [F, V...</td>\n",
       "      <td>1</td>\n",
       "    </tr>\n",
       "    <tr>\n",
       "      <td>tr|A0A0M9JDK6|A0A0M9JDK6_9CAUD</td>\n",
       "      <td>[M, P, P]</td>\n",
       "      <td>[Y, Q, K, A, G, Y, Y]</td>\n",
       "      <td>[V, S, D, V, N, R, -, F]</td>\n",
       "      <td>[A, Q, K, E, M, L, L, Y, K, Y, Y, N, A, G, C, P]</td>\n",
       "      <td>[K, N, D, L, M, P]</td>\n",
       "      <td>[F, N, Y, F, M, F, P, G, A, -, D, S, Y, S, N, ...</td>\n",
       "      <td>[P, Y, D, G, S, L, K, Y, I, V, D, L, K, G, E, ...</td>\n",
       "      <td>[[I, M], [V, L], [F, V], [N, C]]</td>\n",
       "      <td>[I, -, -, -, V, -]</td>\n",
       "      <td>[[G, Y], [N, G], [N, Q], [G, V], [N, -], [F, V...</td>\n",
       "      <td>1</td>\n",
       "    </tr>\n",
       "    <tr>\n",
       "      <td>tr|C7BV40|C7BV40_9CAUD</td>\n",
       "      <td>[S, P, Y]</td>\n",
       "      <td>[Y, R, K, A, S, Y, W]</td>\n",
       "      <td>[V, S, D, L, S, R, -, V]</td>\n",
       "      <td>[E, H, K, E, M, L, L, Y, E, H, F, N, A, S, N, P]</td>\n",
       "      <td>[K, N, D, L, S, P]</td>\n",
       "      <td>[F, S, F, Y, V, Y, A, G, A, -, D, S, Y, S, S, ...</td>\n",
       "      <td>[P, Y, D, G, S, L, K, Y, I, V, D, L, K, G, E, ...</td>\n",
       "      <td>[[C, H], [A, F], [F, I], [N, L]]</td>\n",
       "      <td>[L, -, -, -, V, -]</td>\n",
       "      <td>[[G, Y], [N, G], [N, Q], [G, L], [N, -], [F, V...</td>\n",
       "      <td>1</td>\n",
       "    </tr>\n",
       "    <tr>\n",
       "      <td>tr|A0A0E3HLI0|A0A0E3HLI0_9CAUD</td>\n",
       "      <td>[S, P, Y]</td>\n",
       "      <td>[Y, R, K, A, S, Y, W]</td>\n",
       "      <td>[I, S, D, L, S, R, -, V]</td>\n",
       "      <td>[E, H, K, E, M, M, L, Y, S, H, F, N, A, S, N, P]</td>\n",
       "      <td>[K, N, D, L, S, P]</td>\n",
       "      <td>[F, S, F, Y, V, Y, A, G, A, -, D, S, Y, S, S, ...</td>\n",
       "      <td>[P, Y, D, G, S, L, K, Y, I, V, D, L, K, G, E, ...</td>\n",
       "      <td>[[C, H], [A, Y], [F, I], [N, L]]</td>\n",
       "      <td>[L, -, -, -, V, -]</td>\n",
       "      <td>[[G, Y], [N, G], [N, Q], [G, L], [N, -], [F, I...</td>\n",
       "      <td>1</td>\n",
       "    </tr>\n",
       "    <tr>\n",
       "      <td>tr|A0A249XWF2|A0A249XWF2_9CAUD</td>\n",
       "      <td>[M, P, P]</td>\n",
       "      <td>[Y, Q, K, A, G, Y, W]</td>\n",
       "      <td>[I, S, D, V, N, R, -, F]</td>\n",
       "      <td>[T, K, K, E, L, L, L, Y, K, Y, Y, N, A, A, C, P]</td>\n",
       "      <td>[K, N, D, L, M, P]</td>\n",
       "      <td>[F, T, Y, F, M, Y, P, G, A, -, D, S, Y, S, N, ...</td>\n",
       "      <td>[P, Y, D, G, S, L, K, Y, I, V, D, L, K, G, E, ...</td>\n",
       "      <td>[[V, V], [A, L], [F, V], [N, L]]</td>\n",
       "      <td>[I, -, -, -, V, -]</td>\n",
       "      <td>[[G, Y], [N, G], [N, Q], [G, V], [N, -], [F, V...</td>\n",
       "      <td>1</td>\n",
       "    </tr>\n",
       "  </tbody>\n",
       "</table>\n",
       "</div>"
      ],
      "text/plain": [
       "                                catalytic           dntp_binding  \\\n",
       "tr|A0A2S1GQF7|A0A2S1GQF7_9CAUD  [M, P, P]  [Y, Q, K, A, G, Y, Y]   \n",
       "tr|A0A0M9JDK6|A0A0M9JDK6_9CAUD  [M, P, P]  [Y, Q, K, A, G, Y, Y]   \n",
       "tr|C7BV40|C7BV40_9CAUD          [S, P, Y]  [Y, R, K, A, S, Y, W]   \n",
       "tr|A0A0E3HLI0|A0A0E3HLI0_9CAUD  [S, P, Y]  [Y, R, K, A, S, Y, W]   \n",
       "tr|A0A249XWF2|A0A249XWF2_9CAUD  [M, P, P]  [Y, Q, K, A, G, Y, W]   \n",
       "\n",
       "                                          primer_binding  \\\n",
       "tr|A0A2S1GQF7|A0A2S1GQF7_9CAUD  [V, S, D, V, N, R, -, F]   \n",
       "tr|A0A0M9JDK6|A0A0M9JDK6_9CAUD  [V, S, D, V, N, R, -, F]   \n",
       "tr|C7BV40|C7BV40_9CAUD          [V, S, D, L, S, R, -, V]   \n",
       "tr|A0A0E3HLI0|A0A0E3HLI0_9CAUD  [I, S, D, L, S, R, -, V]   \n",
       "tr|A0A249XWF2|A0A249XWF2_9CAUD  [I, S, D, V, N, R, -, F]   \n",
       "\n",
       "                                                                     exonuclease  \\\n",
       "tr|A0A2S1GQF7|A0A2S1GQF7_9CAUD  [A, Q, K, E, M, L, L, Y, K, Y, Y, N, A, G, C, P]   \n",
       "tr|A0A0M9JDK6|A0A0M9JDK6_9CAUD  [A, Q, K, E, M, L, L, Y, K, Y, Y, N, A, G, C, P]   \n",
       "tr|C7BV40|C7BV40_9CAUD          [E, H, K, E, M, L, L, Y, E, H, F, N, A, S, N, P]   \n",
       "tr|A0A0E3HLI0|A0A0E3HLI0_9CAUD  [E, H, K, E, M, M, L, Y, S, H, F, N, A, S, N, P]   \n",
       "tr|A0A249XWF2|A0A249XWF2_9CAUD  [T, K, K, E, L, L, L, Y, K, Y, Y, N, A, A, C, P]   \n",
       "\n",
       "                                                Mg  \\\n",
       "tr|A0A2S1GQF7|A0A2S1GQF7_9CAUD  [K, N, D, L, M, P]   \n",
       "tr|A0A0M9JDK6|A0A0M9JDK6_9CAUD  [K, N, D, L, M, P]   \n",
       "tr|C7BV40|C7BV40_9CAUD          [K, N, D, L, S, P]   \n",
       "tr|A0A0E3HLI0|A0A0E3HLI0_9CAUD  [K, N, D, L, S, P]   \n",
       "tr|A0A249XWF2|A0A249XWF2_9CAUD  [K, N, D, L, M, P]   \n",
       "\n",
       "                                                             replication_activity  \\\n",
       "tr|A0A2S1GQF7|A0A2S1GQF7_9CAUD  [F, N, Y, F, M, F, P, G, A, -, D, S, Y, S, N, ...   \n",
       "tr|A0A0M9JDK6|A0A0M9JDK6_9CAUD  [F, N, Y, F, M, F, P, G, A, -, D, S, Y, S, N, ...   \n",
       "tr|C7BV40|C7BV40_9CAUD          [F, S, F, Y, V, Y, A, G, A, -, D, S, Y, S, S, ...   \n",
       "tr|A0A0E3HLI0|A0A0E3HLI0_9CAUD  [F, S, F, Y, V, Y, A, G, A, -, D, S, Y, S, S, ...   \n",
       "tr|A0A249XWF2|A0A249XWF2_9CAUD  [F, T, Y, F, M, Y, P, G, A, -, D, S, Y, S, N, ...   \n",
       "\n",
       "                                                                     conservative  \\\n",
       "tr|A0A2S1GQF7|A0A2S1GQF7_9CAUD  [P, Y, D, G, S, L, K, Y, I, V, D, L, K, G, E, ...   \n",
       "tr|A0A0M9JDK6|A0A0M9JDK6_9CAUD  [P, Y, D, G, S, L, K, Y, I, V, D, L, K, G, E, ...   \n",
       "tr|C7BV40|C7BV40_9CAUD          [P, Y, D, G, S, L, K, Y, I, V, D, L, K, G, E, ...   \n",
       "tr|A0A0E3HLI0|A0A0E3HLI0_9CAUD  [P, Y, D, G, S, L, K, Y, I, V, D, L, K, G, E, ...   \n",
       "tr|A0A249XWF2|A0A249XWF2_9CAUD  [P, Y, D, G, S, L, K, Y, I, V, D, L, K, G, E, ...   \n",
       "\n",
       "                                                         ssbonds  \\\n",
       "tr|A0A2S1GQF7|A0A2S1GQF7_9CAUD  [[I, M], [V, L], [F, V], [N, C]]   \n",
       "tr|A0A0M9JDK6|A0A0M9JDK6_9CAUD  [[I, M], [V, L], [F, V], [N, C]]   \n",
       "tr|C7BV40|C7BV40_9CAUD          [[C, H], [A, F], [F, I], [N, L]]   \n",
       "tr|A0A0E3HLI0|A0A0E3HLI0_9CAUD  [[C, H], [A, Y], [F, I], [N, L]]   \n",
       "tr|A0A249XWF2|A0A249XWF2_9CAUD  [[V, V], [A, L], [F, V], [N, L]]   \n",
       "\n",
       "                                           pockets  \\\n",
       "tr|A0A2S1GQF7|A0A2S1GQF7_9CAUD  [I, -, -, -, V, -]   \n",
       "tr|A0A0M9JDK6|A0A0M9JDK6_9CAUD  [I, -, -, -, V, -]   \n",
       "tr|C7BV40|C7BV40_9CAUD          [L, -, -, -, V, -]   \n",
       "tr|A0A0E3HLI0|A0A0E3HLI0_9CAUD  [L, -, -, -, V, -]   \n",
       "tr|A0A249XWF2|A0A249XWF2_9CAUD  [I, -, -, -, V, -]   \n",
       "\n",
       "                                                                      coevolution  \\\n",
       "tr|A0A2S1GQF7|A0A2S1GQF7_9CAUD  [[G, Y], [N, G], [N, Q], [G, V], [N, -], [F, V...   \n",
       "tr|A0A0M9JDK6|A0A0M9JDK6_9CAUD  [[G, Y], [N, G], [N, Q], [G, V], [N, -], [F, V...   \n",
       "tr|C7BV40|C7BV40_9CAUD          [[G, Y], [N, G], [N, Q], [G, L], [N, -], [F, V...   \n",
       "tr|A0A0E3HLI0|A0A0E3HLI0_9CAUD  [[G, Y], [N, G], [N, Q], [G, L], [N, -], [F, I...   \n",
       "tr|A0A249XWF2|A0A249XWF2_9CAUD  [[G, Y], [N, G], [N, Q], [G, V], [N, -], [F, V...   \n",
       "\n",
       "                                target  \n",
       "tr|A0A2S1GQF7|A0A2S1GQF7_9CAUD       1  \n",
       "tr|A0A0M9JDK6|A0A0M9JDK6_9CAUD       1  \n",
       "tr|C7BV40|C7BV40_9CAUD               1  \n",
       "tr|A0A0E3HLI0|A0A0E3HLI0_9CAUD       1  \n",
       "tr|A0A249XWF2|A0A249XWF2_9CAUD       1  "
      ]
     },
     "execution_count": 249,
     "metadata": {},
     "output_type": "execute_result"
    }
   ],
   "source": [
    "f29.head()"
   ]
  },
  {
   "cell_type": "code",
   "execution_count": 354,
   "metadata": {},
   "outputs": [
    {
     "ename": "TypeError",
     "evalue": "object of type 'numpy.int64' has no len()",
     "output_type": "error",
     "traceback": [
      "\u001b[0;31m---------------------------------------------------------------------------\u001b[0m",
      "\u001b[0;31mTypeError\u001b[0m                                 Traceback (most recent call last)",
      "\u001b[0;32m<ipython-input-354-7cf3a188cef1>\u001b[0m in \u001b[0;36m<module>\u001b[0;34m\u001b[0m\n\u001b[1;32m      1\u001b[0m \u001b[0mcolnames_generation\u001b[0m \u001b[0;34m=\u001b[0m \u001b[0;34m[\u001b[0m\u001b[0;34m]\u001b[0m\u001b[0;34m\u001b[0m\u001b[0;34m\u001b[0m\u001b[0m\n\u001b[1;32m      2\u001b[0m \u001b[0;32mfor\u001b[0m \u001b[0mi\u001b[0m\u001b[0;34m,\u001b[0m \u001b[0mind\u001b[0m \u001b[0;32min\u001b[0m \u001b[0mzip\u001b[0m\u001b[0;34m(\u001b[0m\u001b[0mf29\u001b[0m\u001b[0;34m.\u001b[0m\u001b[0mcolumns\u001b[0m\u001b[0;34m,\u001b[0m \u001b[0mrange\u001b[0m\u001b[0;34m(\u001b[0m\u001b[0;36m10\u001b[0m\u001b[0;34m)\u001b[0m\u001b[0;34m)\u001b[0m\u001b[0;34m:\u001b[0m\u001b[0;34m\u001b[0m\u001b[0;34m\u001b[0m\u001b[0m\n\u001b[0;32m----> 3\u001b[0;31m     \u001b[0;32mfor\u001b[0m \u001b[0mnum\u001b[0m \u001b[0;32min\u001b[0m \u001b[0mrange\u001b[0m\u001b[0;34m(\u001b[0m\u001b[0mlen\u001b[0m\u001b[0;34m(\u001b[0m\u001b[0mf29\u001b[0m\u001b[0;34m.\u001b[0m\u001b[0miloc\u001b[0m\u001b[0;34m[\u001b[0m\u001b[0;36m0\u001b[0m\u001b[0;34m,\u001b[0m \u001b[0mind\u001b[0m\u001b[0;34m]\u001b[0m\u001b[0;34m)\u001b[0m\u001b[0;34m)\u001b[0m\u001b[0;34m:\u001b[0m\u001b[0;34m\u001b[0m\u001b[0;34m\u001b[0m\u001b[0m\n\u001b[0m\u001b[1;32m      4\u001b[0m             \u001b[0mcolnames_generation\u001b[0m\u001b[0;34m.\u001b[0m\u001b[0mappend\u001b[0m\u001b[0;34m(\u001b[0m\u001b[0mi\u001b[0m \u001b[0;34m+\u001b[0m \u001b[0;34m\"_\"\u001b[0m \u001b[0;34m+\u001b[0m \u001b[0mstr\u001b[0m\u001b[0;34m(\u001b[0m\u001b[0mnum\u001b[0m\u001b[0;34m)\u001b[0m\u001b[0;34m)\u001b[0m\u001b[0;34m\u001b[0m\u001b[0;34m\u001b[0m\u001b[0m\n",
      "\u001b[0;31mTypeError\u001b[0m: object of type 'numpy.int64' has no len()"
     ]
    }
   ],
   "source": [
    "colnames_generation = []\n",
    "for i, ind in zip(f29.columns, range(10)):\n",
    "    for num in range(len(f29.iloc[0, ind])):\n",
    "            colnames_generation.append(i + \"_\" + str(num))"
   ]
  },
  {
   "cell_type": "code",
   "execution_count": 244,
   "metadata": {},
   "outputs": [],
   "source": [
    "#make binary from ss and coevol\n",
    "#ss bound - 95-98\n",
    "#coevolution 105-112\n",
    "\n",
    "def make_binary_disulf(ao_lists):\n",
    "    result = [\"1\" if pair == [\"C\", \"C\"] else \"0\" for pair in ao_lists]\n",
    "    return(result)\n",
    "    \n",
    "def make_binary_coev(ao_lists):\n",
    "    desired_pairs = [['N', 'T'], \n",
    "                    ['K', 'N'], \n",
    "                    ['K', 'T'], \n",
    "                    ['N', 'D'], \n",
    "                    ['K', 'G'], \n",
    "                    ['N', 'R'], \n",
    "                    ['D', 'V'], \n",
    "                    ['D', 'R']]\n",
    "    \n",
    "    result = [\"1\" if pair == key else \"0\" for pair, key in zip(ao_lists, desired_pairs)]\n",
    "    return(result)"
   ]
  },
  {
   "cell_type": "code",
   "execution_count": 267,
   "metadata": {},
   "outputs": [],
   "source": [
    "f29 = f29.drop(columns=[\"coevolution\"])"
   ]
  },
  {
   "cell_type": "code",
   "execution_count": 271,
   "metadata": {},
   "outputs": [],
   "source": [
    "f29.ssbonds = f29.ssbonds.apply(make_binary_disulf)\n",
    "#f29.coevolution = f29.coevolution.apply(make_binary_coev)"
   ]
  },
  {
   "cell_type": "code",
   "execution_count": 274,
   "metadata": {},
   "outputs": [],
   "source": [
    "#make labels \n",
    "f29_label = pd.DataFrame()\n",
    "for i in f29.columns: \n",
    "    f29_label = pd.concat([f29_label, pd.DataFrame(f29[i].tolist(), index= f29.index)], axis = 1)\n",
    "\n",
    "f29_label.columns = [i for i in range(f29_label.shape[1] - 1)] + [\"target\"] "
   ]
  },
  {
   "cell_type": "code",
   "execution_count": 282,
   "metadata": {},
   "outputs": [
    {
     "data": {
      "text/html": [
       "<div>\n",
       "<style scoped>\n",
       "    .dataframe tbody tr th:only-of-type {\n",
       "        vertical-align: middle;\n",
       "    }\n",
       "\n",
       "    .dataframe tbody tr th {\n",
       "        vertical-align: top;\n",
       "    }\n",
       "\n",
       "    .dataframe thead th {\n",
       "        text-align: right;\n",
       "    }\n",
       "</style>\n",
       "<table border=\"1\" class=\"dataframe\">\n",
       "  <thead>\n",
       "    <tr style=\"text-align: right;\">\n",
       "      <th></th>\n",
       "      <th>0</th>\n",
       "      <th>1</th>\n",
       "      <th>2</th>\n",
       "      <th>3</th>\n",
       "      <th>4</th>\n",
       "      <th>5</th>\n",
       "      <th>6</th>\n",
       "      <th>7</th>\n",
       "      <th>8</th>\n",
       "      <th>9</th>\n",
       "      <th>...</th>\n",
       "      <th>96</th>\n",
       "      <th>97</th>\n",
       "      <th>98</th>\n",
       "      <th>99</th>\n",
       "      <th>100</th>\n",
       "      <th>101</th>\n",
       "      <th>102</th>\n",
       "      <th>103</th>\n",
       "      <th>104</th>\n",
       "      <th>target</th>\n",
       "    </tr>\n",
       "  </thead>\n",
       "  <tbody>\n",
       "    <tr>\n",
       "      <td>tr|A0A2S1GQF7|A0A2S1GQF7_9CAUD</td>\n",
       "      <td>M</td>\n",
       "      <td>P</td>\n",
       "      <td>P</td>\n",
       "      <td>Y</td>\n",
       "      <td>Q</td>\n",
       "      <td>K</td>\n",
       "      <td>A</td>\n",
       "      <td>G</td>\n",
       "      <td>Y</td>\n",
       "      <td>Y</td>\n",
       "      <td>...</td>\n",
       "      <td>0</td>\n",
       "      <td>0</td>\n",
       "      <td>0</td>\n",
       "      <td>I</td>\n",
       "      <td>-</td>\n",
       "      <td>-</td>\n",
       "      <td>-</td>\n",
       "      <td>V</td>\n",
       "      <td>-</td>\n",
       "      <td>1</td>\n",
       "    </tr>\n",
       "    <tr>\n",
       "      <td>tr|A0A0M9JDK6|A0A0M9JDK6_9CAUD</td>\n",
       "      <td>M</td>\n",
       "      <td>P</td>\n",
       "      <td>P</td>\n",
       "      <td>Y</td>\n",
       "      <td>Q</td>\n",
       "      <td>K</td>\n",
       "      <td>A</td>\n",
       "      <td>G</td>\n",
       "      <td>Y</td>\n",
       "      <td>Y</td>\n",
       "      <td>...</td>\n",
       "      <td>0</td>\n",
       "      <td>0</td>\n",
       "      <td>0</td>\n",
       "      <td>I</td>\n",
       "      <td>-</td>\n",
       "      <td>-</td>\n",
       "      <td>-</td>\n",
       "      <td>V</td>\n",
       "      <td>-</td>\n",
       "      <td>1</td>\n",
       "    </tr>\n",
       "    <tr>\n",
       "      <td>tr|C7BV40|C7BV40_9CAUD</td>\n",
       "      <td>S</td>\n",
       "      <td>P</td>\n",
       "      <td>Y</td>\n",
       "      <td>Y</td>\n",
       "      <td>R</td>\n",
       "      <td>K</td>\n",
       "      <td>A</td>\n",
       "      <td>S</td>\n",
       "      <td>Y</td>\n",
       "      <td>W</td>\n",
       "      <td>...</td>\n",
       "      <td>0</td>\n",
       "      <td>0</td>\n",
       "      <td>0</td>\n",
       "      <td>L</td>\n",
       "      <td>-</td>\n",
       "      <td>-</td>\n",
       "      <td>-</td>\n",
       "      <td>V</td>\n",
       "      <td>-</td>\n",
       "      <td>1</td>\n",
       "    </tr>\n",
       "    <tr>\n",
       "      <td>tr|A0A0E3HLI0|A0A0E3HLI0_9CAUD</td>\n",
       "      <td>S</td>\n",
       "      <td>P</td>\n",
       "      <td>Y</td>\n",
       "      <td>Y</td>\n",
       "      <td>R</td>\n",
       "      <td>K</td>\n",
       "      <td>A</td>\n",
       "      <td>S</td>\n",
       "      <td>Y</td>\n",
       "      <td>W</td>\n",
       "      <td>...</td>\n",
       "      <td>0</td>\n",
       "      <td>0</td>\n",
       "      <td>0</td>\n",
       "      <td>L</td>\n",
       "      <td>-</td>\n",
       "      <td>-</td>\n",
       "      <td>-</td>\n",
       "      <td>V</td>\n",
       "      <td>-</td>\n",
       "      <td>1</td>\n",
       "    </tr>\n",
       "    <tr>\n",
       "      <td>tr|A0A249XWF2|A0A249XWF2_9CAUD</td>\n",
       "      <td>M</td>\n",
       "      <td>P</td>\n",
       "      <td>P</td>\n",
       "      <td>Y</td>\n",
       "      <td>Q</td>\n",
       "      <td>K</td>\n",
       "      <td>A</td>\n",
       "      <td>G</td>\n",
       "      <td>Y</td>\n",
       "      <td>W</td>\n",
       "      <td>...</td>\n",
       "      <td>0</td>\n",
       "      <td>0</td>\n",
       "      <td>0</td>\n",
       "      <td>I</td>\n",
       "      <td>-</td>\n",
       "      <td>-</td>\n",
       "      <td>-</td>\n",
       "      <td>V</td>\n",
       "      <td>-</td>\n",
       "      <td>1</td>\n",
       "    </tr>\n",
       "    <tr>\n",
       "      <td>...</td>\n",
       "      <td>...</td>\n",
       "      <td>...</td>\n",
       "      <td>...</td>\n",
       "      <td>...</td>\n",
       "      <td>...</td>\n",
       "      <td>...</td>\n",
       "      <td>...</td>\n",
       "      <td>...</td>\n",
       "      <td>...</td>\n",
       "      <td>...</td>\n",
       "      <td>...</td>\n",
       "      <td>...</td>\n",
       "      <td>...</td>\n",
       "      <td>...</td>\n",
       "      <td>...</td>\n",
       "      <td>...</td>\n",
       "      <td>...</td>\n",
       "      <td>...</td>\n",
       "      <td>...</td>\n",
       "      <td>...</td>\n",
       "      <td>...</td>\n",
       "    </tr>\n",
       "    <tr>\n",
       "      <td>tr|A0A377CW72|A0A377CW72_ECOLX</td>\n",
       "      <td>T</td>\n",
       "      <td>-</td>\n",
       "      <td>-</td>\n",
       "      <td>-</td>\n",
       "      <td>-</td>\n",
       "      <td>-</td>\n",
       "      <td>-</td>\n",
       "      <td>-</td>\n",
       "      <td>-</td>\n",
       "      <td>W</td>\n",
       "      <td>...</td>\n",
       "      <td>0</td>\n",
       "      <td>0</td>\n",
       "      <td>0</td>\n",
       "      <td>A</td>\n",
       "      <td>-</td>\n",
       "      <td>-</td>\n",
       "      <td>-</td>\n",
       "      <td>-</td>\n",
       "      <td>-</td>\n",
       "      <td>0</td>\n",
       "    </tr>\n",
       "    <tr>\n",
       "      <td>tr|A0A6D2GEB5|A0A6D2GEB5_SALER</td>\n",
       "      <td>-</td>\n",
       "      <td>-</td>\n",
       "      <td>-</td>\n",
       "      <td>E</td>\n",
       "      <td>-</td>\n",
       "      <td>-</td>\n",
       "      <td>-</td>\n",
       "      <td>-</td>\n",
       "      <td>-</td>\n",
       "      <td>-</td>\n",
       "      <td>...</td>\n",
       "      <td>0</td>\n",
       "      <td>0</td>\n",
       "      <td>0</td>\n",
       "      <td>L</td>\n",
       "      <td>-</td>\n",
       "      <td>-</td>\n",
       "      <td>-</td>\n",
       "      <td>-</td>\n",
       "      <td>-</td>\n",
       "      <td>0</td>\n",
       "    </tr>\n",
       "    <tr>\n",
       "      <td>tr|A0A3S4HS32|A0A3S4HS32_SALET</td>\n",
       "      <td>-</td>\n",
       "      <td>-</td>\n",
       "      <td>-</td>\n",
       "      <td>E</td>\n",
       "      <td>-</td>\n",
       "      <td>-</td>\n",
       "      <td>-</td>\n",
       "      <td>-</td>\n",
       "      <td>-</td>\n",
       "      <td>-</td>\n",
       "      <td>...</td>\n",
       "      <td>0</td>\n",
       "      <td>0</td>\n",
       "      <td>0</td>\n",
       "      <td>L</td>\n",
       "      <td>-</td>\n",
       "      <td>-</td>\n",
       "      <td>-</td>\n",
       "      <td>-</td>\n",
       "      <td>-</td>\n",
       "      <td>0</td>\n",
       "    </tr>\n",
       "    <tr>\n",
       "      <td>tr|Q6JYT3|Q6JYT3_ECOLX</td>\n",
       "      <td>-</td>\n",
       "      <td>-</td>\n",
       "      <td>-</td>\n",
       "      <td>Y</td>\n",
       "      <td>-</td>\n",
       "      <td>-</td>\n",
       "      <td>-</td>\n",
       "      <td>-</td>\n",
       "      <td>-</td>\n",
       "      <td>-</td>\n",
       "      <td>...</td>\n",
       "      <td>0</td>\n",
       "      <td>0</td>\n",
       "      <td>0</td>\n",
       "      <td>I</td>\n",
       "      <td>-</td>\n",
       "      <td>-</td>\n",
       "      <td>-</td>\n",
       "      <td>V</td>\n",
       "      <td>-</td>\n",
       "      <td>0</td>\n",
       "    </tr>\n",
       "    <tr>\n",
       "      <td>tr|A0A4U9HKN8|A0A4U9HKN8_9ENTR</td>\n",
       "      <td>-</td>\n",
       "      <td>-</td>\n",
       "      <td>-</td>\n",
       "      <td>Y</td>\n",
       "      <td>-</td>\n",
       "      <td>-</td>\n",
       "      <td>-</td>\n",
       "      <td>-</td>\n",
       "      <td>-</td>\n",
       "      <td>-</td>\n",
       "      <td>...</td>\n",
       "      <td>0</td>\n",
       "      <td>0</td>\n",
       "      <td>0</td>\n",
       "      <td>L</td>\n",
       "      <td>-</td>\n",
       "      <td>-</td>\n",
       "      <td>-</td>\n",
       "      <td>-</td>\n",
       "      <td>-</td>\n",
       "      <td>0</td>\n",
       "    </tr>\n",
       "  </tbody>\n",
       "</table>\n",
       "<p>2279 rows × 106 columns</p>\n",
       "</div>"
      ],
      "text/plain": [
       "                                0  1  2  3  4  5  6  7  8  9  ... 96 97 98 99  \\\n",
       "tr|A0A2S1GQF7|A0A2S1GQF7_9CAUD  M  P  P  Y  Q  K  A  G  Y  Y  ...  0  0  0  I   \n",
       "tr|A0A0M9JDK6|A0A0M9JDK6_9CAUD  M  P  P  Y  Q  K  A  G  Y  Y  ...  0  0  0  I   \n",
       "tr|C7BV40|C7BV40_9CAUD          S  P  Y  Y  R  K  A  S  Y  W  ...  0  0  0  L   \n",
       "tr|A0A0E3HLI0|A0A0E3HLI0_9CAUD  S  P  Y  Y  R  K  A  S  Y  W  ...  0  0  0  L   \n",
       "tr|A0A249XWF2|A0A249XWF2_9CAUD  M  P  P  Y  Q  K  A  G  Y  W  ...  0  0  0  I   \n",
       "...                            .. .. .. .. .. .. .. .. .. ..  ... .. .. .. ..   \n",
       "tr|A0A377CW72|A0A377CW72_ECOLX  T  -  -  -  -  -  -  -  -  W  ...  0  0  0  A   \n",
       "tr|A0A6D2GEB5|A0A6D2GEB5_SALER  -  -  -  E  -  -  -  -  -  -  ...  0  0  0  L   \n",
       "tr|A0A3S4HS32|A0A3S4HS32_SALET  -  -  -  E  -  -  -  -  -  -  ...  0  0  0  L   \n",
       "tr|Q6JYT3|Q6JYT3_ECOLX          -  -  -  Y  -  -  -  -  -  -  ...  0  0  0  I   \n",
       "tr|A0A4U9HKN8|A0A4U9HKN8_9ENTR  -  -  -  Y  -  -  -  -  -  -  ...  0  0  0  L   \n",
       "\n",
       "                               100 101 102 103 104 target  \n",
       "tr|A0A2S1GQF7|A0A2S1GQF7_9CAUD   -   -   -   V   -      1  \n",
       "tr|A0A0M9JDK6|A0A0M9JDK6_9CAUD   -   -   -   V   -      1  \n",
       "tr|C7BV40|C7BV40_9CAUD           -   -   -   V   -      1  \n",
       "tr|A0A0E3HLI0|A0A0E3HLI0_9CAUD   -   -   -   V   -      1  \n",
       "tr|A0A249XWF2|A0A249XWF2_9CAUD   -   -   -   V   -      1  \n",
       "...                             ..  ..  ..  ..  ..    ...  \n",
       "tr|A0A377CW72|A0A377CW72_ECOLX   -   -   -   -   -      0  \n",
       "tr|A0A6D2GEB5|A0A6D2GEB5_SALER   -   -   -   -   -      0  \n",
       "tr|A0A3S4HS32|A0A3S4HS32_SALET   -   -   -   -   -      0  \n",
       "tr|Q6JYT3|Q6JYT3_ECOLX           -   -   -   V   -      0  \n",
       "tr|A0A4U9HKN8|A0A4U9HKN8_9ENTR   -   -   -   -   -      0  \n",
       "\n",
       "[2279 rows x 106 columns]"
      ]
     },
     "execution_count": 282,
     "metadata": {},
     "output_type": "execute_result"
    }
   ],
   "source": [
    "f29_label"
   ]
  },
  {
   "cell_type": "code",
   "execution_count": 276,
   "metadata": {},
   "outputs": [],
   "source": [
    "params = {\n",
    "    'depth': [1, 4, 7, 10],\n",
    "    'learning_rate': [0.001, 0.01, 0.1, 0.15,0.2,0.5],\n",
    "    'loss_function': ['Logloss', 'CrossEntropy'],\n",
    "    'l2_leaf_reg': np.logspace(0.01, 2, 20),\n",
    "    'leaf_estimation_iterations': [10],\n",
    "    'logging_level': ['Silent'],\n",
    "    'random_seed': [42],\n",
    "    'iterations':[i for i in range(100, 1000, 100)]\n",
    "}"
   ]
  },
  {
   "cell_type": "code",
   "execution_count": null,
   "metadata": {},
   "outputs": [],
   "source": [
    "#11 features  \n",
    "\n",
    "# good_features = ['conservative_6', 'exonuclease_10', 'Mg_3', 'primer_binding_5', 'dntp_binding_5', 'exonuclease_7', 'replication_activity_15', 'exonuclease_12', 'Mg_0', 'replication_activity_8', 'exonuclease_15', 'replication_activity_14', \n",
    "#                 \"target\"]\n",
    "# f29_label = f29_label[good_features]"
   ]
  },
  {
   "cell_type": "code",
   "execution_count": 290,
   "metadata": {},
   "outputs": [],
   "source": [
    "x_train, x_test_late, y_train, y_test_late = train_test_split(f29_label.drop(\"target\",\n",
    "                                                            axis=1),\n",
    "                                                    f29_label['target'],\n",
    "                                                    test_size=0.2,\n",
    "                                                    random_state=42)\n",
    "\n",
    "x_train.reset_index(drop=True,inplace = True)  \n",
    "x_test_late.reset_index(drop=True,inplace = True)  \n",
    "y_train.reset_index(drop=True,inplace = True)  \n",
    "y_test_late.reset_index(drop=True,inplace = True) "
   ]
  },
  {
   "cell_type": "code",
   "execution_count": 292,
   "metadata": {},
   "outputs": [],
   "source": [
    "x_train, x_test, y_train, y_test = train_test_split(x_train,\n",
    "                                                    y_train,\n",
    "                                                    test_size=0.2,\n",
    "                                                    random_state=42)\n",
    "x_train.reset_index(drop=True,inplace = True)  \n",
    "x_test.reset_index(drop=True,inplace = True)  \n",
    "y_train.reset_index(drop=True,inplace = True)  \n",
    "y_test.reset_index(drop=True,inplace = True)  "
   ]
  },
  {
   "cell_type": "code",
   "execution_count": 300,
   "metadata": {},
   "outputs": [],
   "source": [
    "cat_feautures = x_train.columns\n",
    "indexes_of_categories = [x_train.columns.get_loc(col) for col in cat_feautures]"
   ]
  },
  {
   "cell_type": "code",
   "execution_count": 301,
   "metadata": {},
   "outputs": [],
   "source": [
    "clf = cat.CatBoostClassifier(eval_metric=\"Accuracy\",cat_features=indexes_of_categories)"
   ]
  },
  {
   "cell_type": "code",
   "execution_count": 303,
   "metadata": {
    "scrolled": true
   },
   "outputs": [
    {
     "name": "stdout",
     "output_type": "stream",
     "text": [
      "Fitting 5 folds for each of 10 candidates, totalling 50 fits\n",
      "[CV] random_seed=42, loss_function=CrossEntropy, logging_level=Silent, learning_rate=0.001, leaf_estimation_iterations=10, l2_leaf_reg=14.524636192513784, iterations=700, depth=4 \n"
     ]
    },
    {
     "name": "stderr",
     "output_type": "stream",
     "text": [
      "[Parallel(n_jobs=1)]: Using backend SequentialBackend with 1 concurrent workers.\n"
     ]
    },
    {
     "name": "stdout",
     "output_type": "stream",
     "text": [
      "[CV]  random_seed=42, loss_function=CrossEntropy, logging_level=Silent, learning_rate=0.001, leaf_estimation_iterations=10, l2_leaf_reg=14.524636192513784, iterations=700, depth=4, score=1.000, total=  18.3s\n",
      "[CV] random_seed=42, loss_function=CrossEntropy, logging_level=Silent, learning_rate=0.001, leaf_estimation_iterations=10, l2_leaf_reg=14.524636192513784, iterations=700, depth=4 \n"
     ]
    },
    {
     "name": "stderr",
     "output_type": "stream",
     "text": [
      "[Parallel(n_jobs=1)]: Done   1 out of   1 | elapsed:   18.3s remaining:    0.0s\n"
     ]
    },
    {
     "name": "stdout",
     "output_type": "stream",
     "text": [
      "[CV]  random_seed=42, loss_function=CrossEntropy, logging_level=Silent, learning_rate=0.001, leaf_estimation_iterations=10, l2_leaf_reg=14.524636192513784, iterations=700, depth=4, score=0.971, total=  19.7s\n",
      "[CV] random_seed=42, loss_function=CrossEntropy, logging_level=Silent, learning_rate=0.001, leaf_estimation_iterations=10, l2_leaf_reg=14.524636192513784, iterations=700, depth=4 \n"
     ]
    },
    {
     "name": "stderr",
     "output_type": "stream",
     "text": [
      "[Parallel(n_jobs=1)]: Done   2 out of   2 | elapsed:   38.1s remaining:    0.0s\n"
     ]
    },
    {
     "name": "stdout",
     "output_type": "stream",
     "text": [
      "[CV]  random_seed=42, loss_function=CrossEntropy, logging_level=Silent, learning_rate=0.001, leaf_estimation_iterations=10, l2_leaf_reg=14.524636192513784, iterations=700, depth=4, score=0.955, total=  19.9s\n",
      "[CV] random_seed=42, loss_function=CrossEntropy, logging_level=Silent, learning_rate=0.001, leaf_estimation_iterations=10, l2_leaf_reg=14.524636192513784, iterations=700, depth=4 \n"
     ]
    },
    {
     "name": "stderr",
     "output_type": "stream",
     "text": [
      "[Parallel(n_jobs=1)]: Done   3 out of   3 | elapsed:   58.0s remaining:    0.0s\n"
     ]
    },
    {
     "name": "stdout",
     "output_type": "stream",
     "text": [
      "[CV]  random_seed=42, loss_function=CrossEntropy, logging_level=Silent, learning_rate=0.001, leaf_estimation_iterations=10, l2_leaf_reg=14.524636192513784, iterations=700, depth=4, score=1.000, total=  20.4s\n",
      "[CV] random_seed=42, loss_function=CrossEntropy, logging_level=Silent, learning_rate=0.001, leaf_estimation_iterations=10, l2_leaf_reg=14.524636192513784, iterations=700, depth=4 \n"
     ]
    },
    {
     "name": "stderr",
     "output_type": "stream",
     "text": [
      "[Parallel(n_jobs=1)]: Done   4 out of   4 | elapsed:  1.3min remaining:    0.0s\n"
     ]
    },
    {
     "name": "stdout",
     "output_type": "stream",
     "text": [
      "[CV]  random_seed=42, loss_function=CrossEntropy, logging_level=Silent, learning_rate=0.001, leaf_estimation_iterations=10, l2_leaf_reg=14.524636192513784, iterations=700, depth=4, score=0.954, total=  18.5s\n",
      "[CV] random_seed=42, loss_function=CrossEntropy, logging_level=Silent, learning_rate=0.15, leaf_estimation_iterations=10, l2_leaf_reg=2.685019032003968, iterations=700, depth=1 \n",
      "[CV]  random_seed=42, loss_function=CrossEntropy, logging_level=Silent, learning_rate=0.15, leaf_estimation_iterations=10, l2_leaf_reg=2.685019032003968, iterations=700, depth=1, score=0.972, total=   1.8s\n",
      "[CV] random_seed=42, loss_function=CrossEntropy, logging_level=Silent, learning_rate=0.15, leaf_estimation_iterations=10, l2_leaf_reg=2.685019032003968, iterations=700, depth=1 \n",
      "[CV]  random_seed=42, loss_function=CrossEntropy, logging_level=Silent, learning_rate=0.15, leaf_estimation_iterations=10, l2_leaf_reg=2.685019032003968, iterations=700, depth=1, score=0.986, total=   1.8s\n",
      "[CV] random_seed=42, loss_function=CrossEntropy, logging_level=Silent, learning_rate=0.15, leaf_estimation_iterations=10, l2_leaf_reg=2.685019032003968, iterations=700, depth=1 \n",
      "[CV]  random_seed=42, loss_function=CrossEntropy, logging_level=Silent, learning_rate=0.15, leaf_estimation_iterations=10, l2_leaf_reg=2.685019032003968, iterations=700, depth=1, score=0.971, total=   1.8s\n",
      "[CV] random_seed=42, loss_function=CrossEntropy, logging_level=Silent, learning_rate=0.15, leaf_estimation_iterations=10, l2_leaf_reg=2.685019032003968, iterations=700, depth=1 \n",
      "[CV]  random_seed=42, loss_function=CrossEntropy, logging_level=Silent, learning_rate=0.15, leaf_estimation_iterations=10, l2_leaf_reg=2.685019032003968, iterations=700, depth=1, score=1.000, total=   2.4s\n",
      "[CV] random_seed=42, loss_function=CrossEntropy, logging_level=Silent, learning_rate=0.15, leaf_estimation_iterations=10, l2_leaf_reg=2.685019032003968, iterations=700, depth=1 \n",
      "[CV]  random_seed=42, loss_function=CrossEntropy, logging_level=Silent, learning_rate=0.15, leaf_estimation_iterations=10, l2_leaf_reg=2.685019032003968, iterations=700, depth=1, score=0.939, total=   2.6s\n",
      "[CV] random_seed=42, loss_function=CrossEntropy, logging_level=Silent, learning_rate=0.001, leaf_estimation_iterations=10, l2_leaf_reg=38.11120070597852, iterations=700, depth=7 \n",
      "[CV]  random_seed=42, loss_function=CrossEntropy, logging_level=Silent, learning_rate=0.001, leaf_estimation_iterations=10, l2_leaf_reg=38.11120070597852, iterations=700, depth=7, score=0.971, total=  27.0s\n",
      "[CV] random_seed=42, loss_function=CrossEntropy, logging_level=Silent, learning_rate=0.001, leaf_estimation_iterations=10, l2_leaf_reg=38.11120070597852, iterations=700, depth=7 \n",
      "[CV]  random_seed=42, loss_function=CrossEntropy, logging_level=Silent, learning_rate=0.001, leaf_estimation_iterations=10, l2_leaf_reg=38.11120070597852, iterations=700, depth=7, score=1.000, total=  35.5s\n",
      "[CV] random_seed=42, loss_function=CrossEntropy, logging_level=Silent, learning_rate=0.001, leaf_estimation_iterations=10, l2_leaf_reg=38.11120070597852, iterations=700, depth=7 \n",
      "[CV]  random_seed=42, loss_function=CrossEntropy, logging_level=Silent, learning_rate=0.001, leaf_estimation_iterations=10, l2_leaf_reg=38.11120070597852, iterations=700, depth=7, score=0.923, total=  39.3s\n",
      "[CV] random_seed=42, loss_function=CrossEntropy, logging_level=Silent, learning_rate=0.001, leaf_estimation_iterations=10, l2_leaf_reg=38.11120070597852, iterations=700, depth=7 \n",
      "[CV]  random_seed=42, loss_function=CrossEntropy, logging_level=Silent, learning_rate=0.001, leaf_estimation_iterations=10, l2_leaf_reg=38.11120070597852, iterations=700, depth=7, score=0.985, total=  34.8s\n",
      "[CV] random_seed=42, loss_function=CrossEntropy, logging_level=Silent, learning_rate=0.001, leaf_estimation_iterations=10, l2_leaf_reg=38.11120070597852, iterations=700, depth=7 \n",
      "[CV]  random_seed=42, loss_function=CrossEntropy, logging_level=Silent, learning_rate=0.001, leaf_estimation_iterations=10, l2_leaf_reg=38.11120070597852, iterations=700, depth=7, score=0.954, total=  34.9s\n",
      "[CV] random_seed=42, loss_function=CrossEntropy, logging_level=Silent, learning_rate=0.5, leaf_estimation_iterations=10, l2_leaf_reg=1.3023773722763734, iterations=500, depth=1 \n",
      "[CV]  random_seed=42, loss_function=CrossEntropy, logging_level=Silent, learning_rate=0.5, leaf_estimation_iterations=10, l2_leaf_reg=1.3023773722763734, iterations=500, depth=1, score=0.972, total=   1.2s\n",
      "[CV] random_seed=42, loss_function=CrossEntropy, logging_level=Silent, learning_rate=0.5, leaf_estimation_iterations=10, l2_leaf_reg=1.3023773722763734, iterations=500, depth=1 \n",
      "[CV]  random_seed=42, loss_function=CrossEntropy, logging_level=Silent, learning_rate=0.5, leaf_estimation_iterations=10, l2_leaf_reg=1.3023773722763734, iterations=500, depth=1, score=0.986, total=   1.3s\n",
      "[CV] random_seed=42, loss_function=CrossEntropy, logging_level=Silent, learning_rate=0.5, leaf_estimation_iterations=10, l2_leaf_reg=1.3023773722763734, iterations=500, depth=1 \n",
      "[CV]  random_seed=42, loss_function=CrossEntropy, logging_level=Silent, learning_rate=0.5, leaf_estimation_iterations=10, l2_leaf_reg=1.3023773722763734, iterations=500, depth=1, score=0.971, total=   1.3s\n",
      "[CV] random_seed=42, loss_function=CrossEntropy, logging_level=Silent, learning_rate=0.5, leaf_estimation_iterations=10, l2_leaf_reg=1.3023773722763734, iterations=500, depth=1 \n",
      "[CV]  random_seed=42, loss_function=CrossEntropy, logging_level=Silent, learning_rate=0.5, leaf_estimation_iterations=10, l2_leaf_reg=1.3023773722763734, iterations=500, depth=1, score=1.000, total=   1.3s\n",
      "[CV] random_seed=42, loss_function=CrossEntropy, logging_level=Silent, learning_rate=0.5, leaf_estimation_iterations=10, l2_leaf_reg=1.3023773722763734, iterations=500, depth=1 \n",
      "[CV]  random_seed=42, loss_function=CrossEntropy, logging_level=Silent, learning_rate=0.5, leaf_estimation_iterations=10, l2_leaf_reg=1.3023773722763734, iterations=500, depth=1, score=0.954, total=   1.3s\n",
      "[CV] random_seed=42, loss_function=Logloss, logging_level=Silent, learning_rate=0.15, leaf_estimation_iterations=10, l2_leaf_reg=1.657576894020339, iterations=200, depth=7 \n",
      "[CV]  random_seed=42, loss_function=Logloss, logging_level=Silent, learning_rate=0.15, leaf_estimation_iterations=10, l2_leaf_reg=1.657576894020339, iterations=200, depth=7, score=1.000, total=  23.2s\n",
      "[CV] random_seed=42, loss_function=Logloss, logging_level=Silent, learning_rate=0.15, leaf_estimation_iterations=10, l2_leaf_reg=1.657576894020339, iterations=200, depth=7 \n",
      "[CV]  random_seed=42, loss_function=Logloss, logging_level=Silent, learning_rate=0.15, leaf_estimation_iterations=10, l2_leaf_reg=1.657576894020339, iterations=200, depth=7, score=1.000, total=  22.0s\n",
      "[CV] random_seed=42, loss_function=Logloss, logging_level=Silent, learning_rate=0.15, leaf_estimation_iterations=10, l2_leaf_reg=1.657576894020339, iterations=200, depth=7 \n",
      "[CV]  random_seed=42, loss_function=Logloss, logging_level=Silent, learning_rate=0.15, leaf_estimation_iterations=10, l2_leaf_reg=1.657576894020339, iterations=200, depth=7, score=0.957, total=  21.3s\n",
      "[CV] random_seed=42, loss_function=Logloss, logging_level=Silent, learning_rate=0.15, leaf_estimation_iterations=10, l2_leaf_reg=1.657576894020339, iterations=200, depth=7 \n",
      "[CV]  random_seed=42, loss_function=Logloss, logging_level=Silent, learning_rate=0.15, leaf_estimation_iterations=10, l2_leaf_reg=1.657576894020339, iterations=200, depth=7, score=1.000, total=  21.4s\n",
      "[CV] random_seed=42, loss_function=Logloss, logging_level=Silent, learning_rate=0.15, leaf_estimation_iterations=10, l2_leaf_reg=1.657576894020339, iterations=200, depth=7 \n",
      "[CV]  random_seed=42, loss_function=Logloss, logging_level=Silent, learning_rate=0.15, leaf_estimation_iterations=10, l2_leaf_reg=1.657576894020339, iterations=200, depth=7, score=0.954, total=  19.8s\n",
      "[CV] random_seed=42, loss_function=Logloss, logging_level=Silent, learning_rate=0.001, leaf_estimation_iterations=10, l2_leaf_reg=5.535513251142126, iterations=600, depth=10 \n",
      "[CV]  random_seed=42, loss_function=Logloss, logging_level=Silent, learning_rate=0.001, leaf_estimation_iterations=10, l2_leaf_reg=5.535513251142126, iterations=600, depth=10, score=0.972, total=  32.5s\n",
      "[CV] random_seed=42, loss_function=Logloss, logging_level=Silent, learning_rate=0.001, leaf_estimation_iterations=10, l2_leaf_reg=5.535513251142126, iterations=600, depth=10 \n"
     ]
    },
    {
     "name": "stdout",
     "output_type": "stream",
     "text": [
      "[CV]  random_seed=42, loss_function=Logloss, logging_level=Silent, learning_rate=0.001, leaf_estimation_iterations=10, l2_leaf_reg=5.535513251142126, iterations=600, depth=10, score=0.986, total=  42.2s\n",
      "[CV] random_seed=42, loss_function=Logloss, logging_level=Silent, learning_rate=0.001, leaf_estimation_iterations=10, l2_leaf_reg=5.535513251142126, iterations=600, depth=10 \n",
      "[CV]  random_seed=42, loss_function=Logloss, logging_level=Silent, learning_rate=0.001, leaf_estimation_iterations=10, l2_leaf_reg=5.535513251142126, iterations=600, depth=10, score=0.955, total=  44.3s\n",
      "[CV] random_seed=42, loss_function=Logloss, logging_level=Silent, learning_rate=0.001, leaf_estimation_iterations=10, l2_leaf_reg=5.535513251142126, iterations=600, depth=10 \n",
      "[CV]  random_seed=42, loss_function=Logloss, logging_level=Silent, learning_rate=0.001, leaf_estimation_iterations=10, l2_leaf_reg=5.535513251142126, iterations=600, depth=10, score=0.970, total=  36.7s\n",
      "[CV] random_seed=42, loss_function=Logloss, logging_level=Silent, learning_rate=0.001, leaf_estimation_iterations=10, l2_leaf_reg=5.535513251142126, iterations=600, depth=10 \n",
      "[CV]  random_seed=42, loss_function=Logloss, logging_level=Silent, learning_rate=0.001, leaf_estimation_iterations=10, l2_leaf_reg=5.535513251142126, iterations=600, depth=10, score=0.939, total=  38.4s\n",
      "[CV] random_seed=42, loss_function=CrossEntropy, logging_level=Silent, learning_rate=0.2, leaf_estimation_iterations=10, l2_leaf_reg=2.685019032003968, iterations=300, depth=10 \n",
      "[CV]  random_seed=42, loss_function=CrossEntropy, logging_level=Silent, learning_rate=0.2, leaf_estimation_iterations=10, l2_leaf_reg=2.685019032003968, iterations=300, depth=10, score=1.000, total= 1.3min\n",
      "[CV] random_seed=42, loss_function=CrossEntropy, logging_level=Silent, learning_rate=0.2, leaf_estimation_iterations=10, l2_leaf_reg=2.685019032003968, iterations=300, depth=10 \n",
      "[CV]  random_seed=42, loss_function=CrossEntropy, logging_level=Silent, learning_rate=0.2, leaf_estimation_iterations=10, l2_leaf_reg=2.685019032003968, iterations=300, depth=10, score=1.000, total= 1.3min\n",
      "[CV] random_seed=42, loss_function=CrossEntropy, logging_level=Silent, learning_rate=0.2, leaf_estimation_iterations=10, l2_leaf_reg=2.685019032003968, iterations=300, depth=10 \n",
      "[CV]  random_seed=42, loss_function=CrossEntropy, logging_level=Silent, learning_rate=0.2, leaf_estimation_iterations=10, l2_leaf_reg=2.685019032003968, iterations=300, depth=10, score=0.957, total= 1.2min\n",
      "[CV] random_seed=42, loss_function=CrossEntropy, logging_level=Silent, learning_rate=0.2, leaf_estimation_iterations=10, l2_leaf_reg=2.685019032003968, iterations=300, depth=10 \n",
      "[CV]  random_seed=42, loss_function=CrossEntropy, logging_level=Silent, learning_rate=0.2, leaf_estimation_iterations=10, l2_leaf_reg=2.685019032003968, iterations=300, depth=10, score=1.000, total= 1.3min\n",
      "[CV] random_seed=42, loss_function=CrossEntropy, logging_level=Silent, learning_rate=0.2, leaf_estimation_iterations=10, l2_leaf_reg=2.685019032003968, iterations=300, depth=10 \n",
      "[CV]  random_seed=42, loss_function=CrossEntropy, logging_level=Silent, learning_rate=0.2, leaf_estimation_iterations=10, l2_leaf_reg=2.685019032003968, iterations=300, depth=10, score=0.954, total= 1.3min\n",
      "[CV] random_seed=42, loss_function=Logloss, logging_level=Silent, learning_rate=0.15, leaf_estimation_iterations=10, l2_leaf_reg=29.944411996093343, iterations=600, depth=1 \n",
      "[CV]  random_seed=42, loss_function=Logloss, logging_level=Silent, learning_rate=0.15, leaf_estimation_iterations=10, l2_leaf_reg=29.944411996093343, iterations=600, depth=1, score=0.972, total=   1.5s\n",
      "[CV] random_seed=42, loss_function=Logloss, logging_level=Silent, learning_rate=0.15, leaf_estimation_iterations=10, l2_leaf_reg=29.944411996093343, iterations=600, depth=1 \n",
      "[CV]  random_seed=42, loss_function=Logloss, logging_level=Silent, learning_rate=0.15, leaf_estimation_iterations=10, l2_leaf_reg=29.944411996093343, iterations=600, depth=1, score=1.000, total=   1.5s\n",
      "[CV] random_seed=42, loss_function=Logloss, logging_level=Silent, learning_rate=0.15, leaf_estimation_iterations=10, l2_leaf_reg=29.944411996093343, iterations=600, depth=1 \n",
      "[CV]  random_seed=42, loss_function=Logloss, logging_level=Silent, learning_rate=0.15, leaf_estimation_iterations=10, l2_leaf_reg=29.944411996093343, iterations=600, depth=1, score=0.986, total=   1.5s\n",
      "[CV] random_seed=42, loss_function=Logloss, logging_level=Silent, learning_rate=0.15, leaf_estimation_iterations=10, l2_leaf_reg=29.944411996093343, iterations=600, depth=1 \n",
      "[CV]  random_seed=42, loss_function=Logloss, logging_level=Silent, learning_rate=0.15, leaf_estimation_iterations=10, l2_leaf_reg=29.944411996093343, iterations=600, depth=1, score=1.000, total=   1.6s\n",
      "[CV] random_seed=42, loss_function=Logloss, logging_level=Silent, learning_rate=0.15, leaf_estimation_iterations=10, l2_leaf_reg=29.944411996093343, iterations=600, depth=1 \n",
      "[CV]  random_seed=42, loss_function=Logloss, logging_level=Silent, learning_rate=0.15, leaf_estimation_iterations=10, l2_leaf_reg=29.944411996093343, iterations=600, depth=1, score=0.939, total=   1.5s\n",
      "[CV] random_seed=42, loss_function=CrossEntropy, logging_level=Silent, learning_rate=0.2, leaf_estimation_iterations=10, l2_leaf_reg=23.527671476672154, iterations=800, depth=4 \n",
      "[CV]  random_seed=42, loss_function=CrossEntropy, logging_level=Silent, learning_rate=0.2, leaf_estimation_iterations=10, l2_leaf_reg=23.527671476672154, iterations=800, depth=4, score=0.972, total=  26.0s\n",
      "[CV] random_seed=42, loss_function=CrossEntropy, logging_level=Silent, learning_rate=0.2, leaf_estimation_iterations=10, l2_leaf_reg=23.527671476672154, iterations=800, depth=4 \n",
      "[CV]  random_seed=42, loss_function=CrossEntropy, logging_level=Silent, learning_rate=0.2, leaf_estimation_iterations=10, l2_leaf_reg=23.527671476672154, iterations=800, depth=4, score=1.000, total=  25.3s\n",
      "[CV] random_seed=42, loss_function=CrossEntropy, logging_level=Silent, learning_rate=0.2, leaf_estimation_iterations=10, l2_leaf_reg=23.527671476672154, iterations=800, depth=4 \n",
      "[CV]  random_seed=42, loss_function=CrossEntropy, logging_level=Silent, learning_rate=0.2, leaf_estimation_iterations=10, l2_leaf_reg=23.527671476672154, iterations=800, depth=4, score=0.957, total=  24.7s\n",
      "[CV] random_seed=42, loss_function=CrossEntropy, logging_level=Silent, learning_rate=0.2, leaf_estimation_iterations=10, l2_leaf_reg=23.527671476672154, iterations=800, depth=4 \n",
      "[CV]  random_seed=42, loss_function=CrossEntropy, logging_level=Silent, learning_rate=0.2, leaf_estimation_iterations=10, l2_leaf_reg=23.527671476672154, iterations=800, depth=4, score=1.000, total=  23.1s\n",
      "[CV] random_seed=42, loss_function=CrossEntropy, logging_level=Silent, learning_rate=0.2, leaf_estimation_iterations=10, l2_leaf_reg=23.527671476672154, iterations=800, depth=4 \n",
      "[CV]  random_seed=42, loss_function=CrossEntropy, logging_level=Silent, learning_rate=0.2, leaf_estimation_iterations=10, l2_leaf_reg=23.527671476672154, iterations=800, depth=4, score=0.954, total=  23.5s\n",
      "[CV] random_seed=42, loss_function=Logloss, logging_level=Silent, learning_rate=0.1, leaf_estimation_iterations=10, l2_leaf_reg=48.5053311262506, iterations=400, depth=1 \n",
      "[CV]  random_seed=42, loss_function=Logloss, logging_level=Silent, learning_rate=0.1, leaf_estimation_iterations=10, l2_leaf_reg=48.5053311262506, iterations=400, depth=1, score=0.972, total=   1.1s\n",
      "[CV] random_seed=42, loss_function=Logloss, logging_level=Silent, learning_rate=0.1, leaf_estimation_iterations=10, l2_leaf_reg=48.5053311262506, iterations=400, depth=1 \n",
      "[CV]  random_seed=42, loss_function=Logloss, logging_level=Silent, learning_rate=0.1, leaf_estimation_iterations=10, l2_leaf_reg=48.5053311262506, iterations=400, depth=1, score=1.000, total=   1.1s\n",
      "[CV] random_seed=42, loss_function=Logloss, logging_level=Silent, learning_rate=0.1, leaf_estimation_iterations=10, l2_leaf_reg=48.5053311262506, iterations=400, depth=1 \n",
      "[CV]  random_seed=42, loss_function=Logloss, logging_level=Silent, learning_rate=0.1, leaf_estimation_iterations=10, l2_leaf_reg=48.5053311262506, iterations=400, depth=1, score=0.971, total=   1.1s\n",
      "[CV] random_seed=42, loss_function=Logloss, logging_level=Silent, learning_rate=0.1, leaf_estimation_iterations=10, l2_leaf_reg=48.5053311262506, iterations=400, depth=1 \n"
     ]
    },
    {
     "name": "stdout",
     "output_type": "stream",
     "text": [
      "[CV]  random_seed=42, loss_function=Logloss, logging_level=Silent, learning_rate=0.1, leaf_estimation_iterations=10, l2_leaf_reg=48.5053311262506, iterations=400, depth=1, score=1.000, total=   1.1s\n",
      "[CV] random_seed=42, loss_function=Logloss, logging_level=Silent, learning_rate=0.1, leaf_estimation_iterations=10, l2_leaf_reg=48.5053311262506, iterations=400, depth=1 \n",
      "[CV]  random_seed=42, loss_function=Logloss, logging_level=Silent, learning_rate=0.1, leaf_estimation_iterations=10, l2_leaf_reg=48.5053311262506, iterations=400, depth=1, score=0.939, total=   1.0s\n"
     ]
    },
    {
     "name": "stderr",
     "output_type": "stream",
     "text": [
      "[Parallel(n_jobs=1)]: Done  50 out of  50 | elapsed: 18.5min finished\n"
     ]
    }
   ],
   "source": [
    "grid = RandomizedSearchCV(clf,\n",
    "                          params,\n",
    "                          n_jobs=1,\n",
    "                          n_iter=10,\n",
    "                          scoring=\"f1\",\n",
    "                          cv=5, \n",
    "                          verbose= 5)\n",
    "\n",
    "grid.fit(x_train, y_train, cat_features=indexes_of_categories)\n",
    "best_params = grid.best_estimator_.get_params()"
   ]
  },
  {
   "cell_type": "code",
   "execution_count": 304,
   "metadata": {},
   "outputs": [
    {
     "name": "stdout",
     "output_type": "stream",
     "text": [
      "{'cat_features': [0, 1, 2, 3, 4, 5, 6, 7, 8, 9, 10, 11, 12, 13, 14, 15, 16, 17, 18, 19, 20, 21, 22, 23, 24, 25, 26, 27, 28, 29, 30, 31, 32, 33, 34, 35, 36, 37, 38, 39, 40, 41, 42, 43, 44, 45, 46, 47, 48, 49, 50, 51, 52, 53, 54, 55, 56, 57, 58, 59, 60, 61, 62, 63, 64, 65, 66, 67, 68, 69, 70, 71, 72, 73, 74, 75, 76, 77, 78, 79, 80, 81, 82, 83, 84, 85, 86, 87, 88, 89, 90, 91, 92, 93, 94, 95, 96, 97, 98, 99, 100, 101, 102, 103, 104], 'eval_metric': 'Accuracy', 'logging_level': 'Silent', 'random_seed': 42, 'leaf_estimation_iterations': 10, 'loss_function': 'Logloss', 'l2_leaf_reg': 1.657576894020339, 'depth': 7, 'learning_rate': 0.15, 'iterations': 200}\n"
     ]
    }
   ],
   "source": [
    "print(best_params)"
   ]
  },
  {
   "cell_type": "code",
   "execution_count": 305,
   "metadata": {},
   "outputs": [],
   "source": [
    "clf_cat = cat.CatBoostClassifier(**best_params).fit(x_train, y_train,cat_features=indexes_of_categories)\n",
    "y_pred = clf_cat.predict(x_test)\n",
    "y_pred_proba = clf_cat.predict_proba(x_test)[:,-1]"
   ]
  },
  {
   "cell_type": "code",
   "execution_count": 310,
   "metadata": {},
   "outputs": [],
   "source": [
    "y_pred_late = clf_cat.predict(x_test_late)\n",
    "y_pred_proba_late = clf_cat.predict_proba(x_test_late)[:,-1]"
   ]
  },
  {
   "cell_type": "code",
   "execution_count": 312,
   "metadata": {},
   "outputs": [
    {
     "name": "stdout",
     "output_type": "stream",
     "text": [
      "              precision    recall  f1-score   support\n",
      "\n",
      "           0       1.00      1.00      1.00       401\n",
      "           1       1.00      1.00      1.00        55\n",
      "\n",
      "    accuracy                           1.00       456\n",
      "   macro avg       1.00      1.00      1.00       456\n",
      "weighted avg       1.00      1.00      1.00       456\n",
      "\n",
      "1.0\n"
     ]
    }
   ],
   "source": [
    "print(classification_report(y_test_late, y_pred_late))\n",
    "print(roc_auc_score(y_test_late, y_pred_late))"
   ]
  },
  {
   "cell_type": "code",
   "execution_count": 309,
   "metadata": {},
   "outputs": [],
   "source": [
    "path = \"GH_model\"\n",
    "model_name = \"first_model\"\n",
    "clf_cat.save_model(path + \"/\" + model_name)"
   ]
  },
  {
   "cell_type": "code",
   "execution_count": 307,
   "metadata": {},
   "outputs": [],
   "source": [
    "shap_values = clf_cat.get_feature_importance(cat.Pool(x_test, label=y_test,\n",
    "                                                      cat_features=indexes_of_categories), \n",
    "                                                                     type=\"ShapValues\")\n",
    "\n",
    "expected_value = shap_values[0,-1]\n",
    "shap_values = shap_values[:,:-1]"
   ]
  },
  {
   "cell_type": "code",
   "execution_count": 43,
   "metadata": {},
   "outputs": [
    {
     "data": {
      "text/plain": [
       "array([[ 0.20833229,  0.        ,  0.        , -0.49457983, -1.03209461,\n",
       "        -0.16135288,  1.38035583,  0.02223419],\n",
       "       [ 0.20833229,  0.        ,  0.        , -0.49457983, -1.03209461,\n",
       "        -0.16135288, -1.37301741,  0.02223419],\n",
       "       [ 0.20833229,  0.        ,  0.        , -0.49457983, -1.03209461,\n",
       "         0.11151967,  0.03514376,  0.02223419],\n",
       "       [ 0.20833229,  0.        ,  0.        ,  1.42878619,  0.97665056,\n",
       "         0.11151967,  1.38035583,  0.02223419],\n",
       "       [ 0.20833229,  0.        ,  0.        , -0.49457983,  0.97665056,\n",
       "         0.11151967,  1.38035583,  0.02223419],\n",
       "       [ 0.20833229,  0.        ,  0.        , -0.49457983, -1.03209461,\n",
       "        -0.16135288, -1.37301741,  0.02223419],\n",
       "       [ 0.20833229,  0.        ,  0.        , -0.49457983,  0.73199258,\n",
       "         0.11151967,  1.38035583,  0.02223419],\n",
       "       [ 0.20833229,  0.        ,  0.        , -0.49457983, -1.03209461,\n",
       "        -0.16135288, -1.04635021,  0.02223419],\n",
       "       [ 0.20833229,  0.        ,  0.        ,  1.42878619,  0.97665056,\n",
       "         0.11151967,  1.38035583,  0.02223419],\n",
       "       [ 0.20833229,  0.        ,  0.        , -0.49457983, -1.03209461,\n",
       "        -0.16135288,  0.85170568,  0.02223419],\n",
       "       [ 0.20833229,  0.        ,  0.        ,  1.42878619,  0.97665056,\n",
       "         0.11151967,  1.38035583,  0.02223419],\n",
       "       [ 0.20833229,  0.        ,  0.        ,  1.42878619,  0.73199258,\n",
       "         0.11151967,  1.38035583,  0.02223419],\n",
       "       [-1.61457521,  0.        ,  0.        , -0.49457983, -1.03209461,\n",
       "         0.11151967, -1.37301741,  0.02223419],\n",
       "       [ 0.20833229,  0.        ,  0.        ,  1.42878619, -1.03209461,\n",
       "         0.11151967,  0.85170568,  0.02223419],\n",
       "       [-1.61457521,  0.        ,  0.        , -0.49457983, -1.03209461,\n",
       "        -0.16135288,  1.38035583,  0.02223419],\n",
       "       [ 0.20833229,  0.        ,  0.        ,  1.42878619,  0.97665056,\n",
       "         0.11151967,  1.38035583,  0.02223419]])"
      ]
     },
     "execution_count": 43,
     "metadata": {},
     "output_type": "execute_result"
    }
   ],
   "source": [
    "shap_values"
   ]
  },
  {
   "cell_type": "code",
   "execution_count": 320,
   "metadata": {},
   "outputs": [],
   "source": [
    "f29_label_p = f29_label[f29_label.target == 1]\n",
    "f29_label_n = f29_label[f29_label.target == 0]"
   ]
  },
  {
   "cell_type": "code",
   "execution_count": 321,
   "metadata": {},
   "outputs": [
    {
     "data": {
      "text/plain": [
       "(276, 106)"
      ]
     },
     "execution_count": 321,
     "metadata": {},
     "output_type": "execute_result"
    }
   ],
   "source": [
    "f29_label_p.shape"
   ]
  },
  {
   "cell_type": "code",
   "execution_count": 323,
   "metadata": {},
   "outputs": [
    {
     "data": {
      "text/plain": [
       "K    266\n",
       "D      3\n",
       "G      2\n",
       "Q      1\n",
       "Y      1\n",
       "-      1\n",
       "T      1\n",
       "W      1\n",
       "Name: 67, dtype: int64"
      ]
     },
     "execution_count": 323,
     "metadata": {},
     "output_type": "execute_result"
    }
   ],
   "source": [
    "f29_label_p[67].value_counts()"
   ]
  },
  {
   "cell_type": "code",
   "execution_count": 324,
   "metadata": {},
   "outputs": [
    {
     "data": {
      "text/plain": [
       "S    1503\n",
       "-     181\n",
       "T      85\n",
       "R      84\n",
       "A      38\n",
       "N      29\n",
       "K      23\n",
       "E      16\n",
       "M      11\n",
       "Q       6\n",
       "G       5\n",
       "D       5\n",
       "V       5\n",
       "I       4\n",
       "L       4\n",
       "H       2\n",
       "X       1\n",
       "F       1\n",
       "Name: 67, dtype: int64"
      ]
     },
     "execution_count": 324,
     "metadata": {},
     "output_type": "execute_result"
    }
   ],
   "source": [
    "f29_label_n[67].value_counts()"
   ]
  },
  {
   "cell_type": "code",
   "execution_count": 325,
   "metadata": {},
   "outputs": [
    {
     "data": {
      "text/plain": [
       "Y    176\n",
       "F     90\n",
       "H      8\n",
       "-      2\n",
       "Name: 28, dtype: int64"
      ]
     },
     "execution_count": 325,
     "metadata": {},
     "output_type": "execute_result"
    }
   ],
   "source": [
    "f29_label_p[28].value_counts()"
   ]
  },
  {
   "cell_type": "code",
   "execution_count": 326,
   "metadata": {},
   "outputs": [
    {
     "data": {
      "text/plain": [
       "L    1804\n",
       "-      66\n",
       "F      36\n",
       "V      26\n",
       "Y      24\n",
       "N      11\n",
       "T      11\n",
       "I       6\n",
       "A       4\n",
       "S       3\n",
       "R       2\n",
       "E       2\n",
       "W       2\n",
       "M       2\n",
       "P       1\n",
       "H       1\n",
       "G       1\n",
       "K       1\n",
       "Name: 28, dtype: int64"
      ]
     },
     "execution_count": 326,
     "metadata": {},
     "output_type": "execute_result"
    }
   ],
   "source": [
    "f29_label_n[28].value_counts()"
   ]
  },
  {
   "cell_type": "code",
   "execution_count": 340,
   "metadata": {},
   "outputs": [
    {
     "data": {
      "image/png": "[encoded data removed]",
      "text/plain": [
       "<Figure size 576x684 with 1 Axes>"
      ]
     },
     "metadata": {
      "needs_background": "light"
     },
     "output_type": "display_data"
    }
   ],
   "source": [
    "shap.summary_plot(shap_values, x_test, plot_type=\"bar\")"
   ]
  },
  {
   "cell_type": "code",
   "execution_count": 118,
   "metadata": {},
   "outputs": [],
   "source": [
    "def catboost_model(x_train, x_test, y_train, y_test, cat_feautures, params):\n",
    "    \n",
    "    indexes_of_categories = [x_train.columns.get_loc(col) for col in cat_feautures]\n",
    "    \n",
    "    #parametrs search \n",
    "    clf = cat.CatBoostClassifier(eval_metric=\"Accuracy\",cat_features=indexes_of_categories)\n",
    "    grid = RandomizedSearchCV(clf,\n",
    "                          params,\n",
    "                          n_jobs=1,\n",
    "                          n_iter=10,\n",
    "                          scoring=\"f1\",\n",
    "                          cv=5)\n",
    "    \n",
    "    grid.fit(x_train, y_train)\n",
    "    best_params = grid.best_estimator_.get_params()\n",
    "    \n",
    "    print(best_params)\n",
    "    \n",
    "    #fit predict\n",
    "    clf_cat = cat.CatBoostClassifier(**best_params).fit(x_train, y_train,cat_features=indexes_of_categories)\n",
    "    y_pred = clf_cat.predict(x_test)\n",
    "    y_pred_proba = clf_cat.predict_proba(x_test)[:,-1]\n",
    "    \n",
    "    #quality\n",
    "    print(classification_report(y_test, y_pred))\n",
    "    print(roc_auc_score(y_test, y_pred))\n",
    "    \n",
    "    return(clf_cat)"
   ]
  },
  {
   "cell_type": "code",
   "execution_count": 67,
   "metadata": {},
   "outputs": [],
   "source": [
    "def feature_selection(clf, x_test, y_test, cat_feautures):\n",
    "    \n",
    "    indexes_of_categories = [x_train.columns.get_loc(col) for col in cat_feautures]\n",
    "    shap_values = clf.get_feature_importance(cat.Pool(x_test, label=y_test,\n",
    "                                                      cat_features=indexes_of_categories), \n",
    "                                                                     type=\"ShapValues\")\n",
    "    #meanings \n",
    "    expected_value = shap_values[0,-1]\n",
    "    shap_values = shap_values[:,:-1]\n",
    "    \n",
    "    #plot importance\n",
    "    shap.summary_plot(shap_values, x_test, plot_type=\"bar\")\n",
    "    \n",
    "    vals= np.abs(shap_values).mean(0)\n",
    "    feature_importance = pd.DataFrame(list(zip(x_train.columns,vals)),columns=['col_name','feature_importance_vals'])\n",
    "    feature_importance.sort_values(by=['feature_importance_vals'],ascending=False,inplace=True)\n",
    "    feature_importance.reset_index(drop=True,inplace = True) \n",
    "    \n",
    "    return(feature_importance)"
   ]
  },
  {
   "cell_type": "code",
   "execution_count": 333,
   "metadata": {},
   "outputs": [
    {
     "data": {
      "image/png": "[encoded data removed]",
      "text/plain": [
       "<Figure size 576x684 with 1 Axes>"
      ]
     },
     "metadata": {
      "needs_background": "light"
     },
     "output_type": "display_data"
    }
   ],
   "source": [
    "y = feature_selection(clf_cat, x_test, y_test, cat_feautures)"
   ]
  },
  {
   "cell_type": "code",
   "execution_count": 374,
   "metadata": {},
   "outputs": [],
   "source": [
    "rename_columns = rename_columns.to_dict()"
   ]
  },
  {
   "cell_type": "code",
   "execution_count": 382,
   "metadata": {},
   "outputs": [],
   "source": [
    "y[\"new_name\"] = y.col_name.apply(lambda x: rename_columns['new_name'][x])"
   ]
  },
  {
   "cell_type": "code",
   "execution_count": 384,
   "metadata": {
    "scrolled": true
   },
   "outputs": [
    {
     "data": {
      "text/html": [
       "<div>\n",
       "<style scoped>\n",
       "    .dataframe tbody tr th:only-of-type {\n",
       "        vertical-align: middle;\n",
       "    }\n",
       "\n",
       "    .dataframe tbody tr th {\n",
       "        vertical-align: top;\n",
       "    }\n",
       "\n",
       "    .dataframe thead th {\n",
       "        text-align: right;\n",
       "    }\n",
       "</style>\n",
       "<table border=\"1\" class=\"dataframe\">\n",
       "  <thead>\n",
       "    <tr style=\"text-align: right;\">\n",
       "      <th></th>\n",
       "      <th>col_name</th>\n",
       "      <th>feature_importance_vals</th>\n",
       "      <th>new_name</th>\n",
       "    </tr>\n",
       "  </thead>\n",
       "  <tbody>\n",
       "    <tr>\n",
       "      <td>0</td>\n",
       "      <td>67</td>\n",
       "      <td>1.373504</td>\n",
       "      <td>conservative_6</td>\n",
       "    </tr>\n",
       "    <tr>\n",
       "      <td>1</td>\n",
       "      <td>28</td>\n",
       "      <td>1.010077</td>\n",
       "      <td>exonuclease_10</td>\n",
       "    </tr>\n",
       "    <tr>\n",
       "      <td>2</td>\n",
       "      <td>37</td>\n",
       "      <td>0.750144</td>\n",
       "      <td>Mg_3</td>\n",
       "    </tr>\n",
       "    <tr>\n",
       "      <td>3</td>\n",
       "      <td>15</td>\n",
       "      <td>0.619701</td>\n",
       "      <td>primer_binding_5</td>\n",
       "    </tr>\n",
       "    <tr>\n",
       "      <td>4</td>\n",
       "      <td>8</td>\n",
       "      <td>0.460686</td>\n",
       "      <td>dntp_binding_5</td>\n",
       "    </tr>\n",
       "    <tr>\n",
       "      <td>5</td>\n",
       "      <td>25</td>\n",
       "      <td>0.307692</td>\n",
       "      <td>exonuclease_7</td>\n",
       "    </tr>\n",
       "    <tr>\n",
       "      <td>6</td>\n",
       "      <td>55</td>\n",
       "      <td>0.303968</td>\n",
       "      <td>replication_activity_15</td>\n",
       "    </tr>\n",
       "    <tr>\n",
       "      <td>7</td>\n",
       "      <td>30</td>\n",
       "      <td>0.295330</td>\n",
       "      <td>exonuclease_12</td>\n",
       "    </tr>\n",
       "    <tr>\n",
       "      <td>8</td>\n",
       "      <td>34</td>\n",
       "      <td>0.265571</td>\n",
       "      <td>Mg_0</td>\n",
       "    </tr>\n",
       "    <tr>\n",
       "      <td>9</td>\n",
       "      <td>48</td>\n",
       "      <td>0.246468</td>\n",
       "      <td>replication_activity_8</td>\n",
       "    </tr>\n",
       "    <tr>\n",
       "      <td>10</td>\n",
       "      <td>33</td>\n",
       "      <td>0.224774</td>\n",
       "      <td>exonuclease_15</td>\n",
       "    </tr>\n",
       "    <tr>\n",
       "      <td>11</td>\n",
       "      <td>54</td>\n",
       "      <td>0.207742</td>\n",
       "      <td>replication_activity_14</td>\n",
       "    </tr>\n",
       "    <tr>\n",
       "      <td>12</td>\n",
       "      <td>23</td>\n",
       "      <td>0.100029</td>\n",
       "      <td>exonuclease_5</td>\n",
       "    </tr>\n",
       "    <tr>\n",
       "      <td>13</td>\n",
       "      <td>76</td>\n",
       "      <td>0.095374</td>\n",
       "      <td>conservative_15</td>\n",
       "    </tr>\n",
       "    <tr>\n",
       "      <td>14</td>\n",
       "      <td>101</td>\n",
       "      <td>0.068633</td>\n",
       "      <td>pockets_2</td>\n",
       "    </tr>\n",
       "    <tr>\n",
       "      <td>15</td>\n",
       "      <td>93</td>\n",
       "      <td>0.067516</td>\n",
       "      <td>conservative_32</td>\n",
       "    </tr>\n",
       "    <tr>\n",
       "      <td>16</td>\n",
       "      <td>86</td>\n",
       "      <td>0.065867</td>\n",
       "      <td>conservative_25</td>\n",
       "    </tr>\n",
       "    <tr>\n",
       "      <td>17</td>\n",
       "      <td>58</td>\n",
       "      <td>0.059054</td>\n",
       "      <td>replication_activity_18</td>\n",
       "    </tr>\n",
       "    <tr>\n",
       "      <td>18</td>\n",
       "      <td>88</td>\n",
       "      <td>0.052080</td>\n",
       "      <td>conservative_27</td>\n",
       "    </tr>\n",
       "    <tr>\n",
       "      <td>19</td>\n",
       "      <td>104</td>\n",
       "      <td>0.051134</td>\n",
       "      <td>pockets_5</td>\n",
       "    </tr>\n",
       "    <tr>\n",
       "      <td>20</td>\n",
       "      <td>7</td>\n",
       "      <td>0.046404</td>\n",
       "      <td>dntp_binding_4</td>\n",
       "    </tr>\n",
       "    <tr>\n",
       "      <td>21</td>\n",
       "      <td>19</td>\n",
       "      <td>0.041360</td>\n",
       "      <td>exonuclease_1</td>\n",
       "    </tr>\n",
       "    <tr>\n",
       "      <td>22</td>\n",
       "      <td>0</td>\n",
       "      <td>0.041221</td>\n",
       "      <td>catalytic_0</td>\n",
       "    </tr>\n",
       "    <tr>\n",
       "      <td>23</td>\n",
       "      <td>50</td>\n",
       "      <td>0.035414</td>\n",
       "      <td>replication_activity_10</td>\n",
       "    </tr>\n",
       "    <tr>\n",
       "      <td>24</td>\n",
       "      <td>77</td>\n",
       "      <td>0.034900</td>\n",
       "      <td>conservative_16</td>\n",
       "    </tr>\n",
       "    <tr>\n",
       "      <td>25</td>\n",
       "      <td>64</td>\n",
       "      <td>0.033074</td>\n",
       "      <td>conservative_3</td>\n",
       "    </tr>\n",
       "    <tr>\n",
       "      <td>26</td>\n",
       "      <td>43</td>\n",
       "      <td>0.032735</td>\n",
       "      <td>replication_activity_3</td>\n",
       "    </tr>\n",
       "    <tr>\n",
       "      <td>27</td>\n",
       "      <td>12</td>\n",
       "      <td>0.031605</td>\n",
       "      <td>primer_binding_2</td>\n",
       "    </tr>\n",
       "    <tr>\n",
       "      <td>28</td>\n",
       "      <td>21</td>\n",
       "      <td>0.030326</td>\n",
       "      <td>exonuclease_3</td>\n",
       "    </tr>\n",
       "    <tr>\n",
       "      <td>29</td>\n",
       "      <td>79</td>\n",
       "      <td>0.029697</td>\n",
       "      <td>conservative_18</td>\n",
       "    </tr>\n",
       "    <tr>\n",
       "      <td>30</td>\n",
       "      <td>49</td>\n",
       "      <td>0.026551</td>\n",
       "      <td>replication_activity_9</td>\n",
       "    </tr>\n",
       "    <tr>\n",
       "      <td>31</td>\n",
       "      <td>99</td>\n",
       "      <td>0.024211</td>\n",
       "      <td>pockets_0</td>\n",
       "    </tr>\n",
       "    <tr>\n",
       "      <td>32</td>\n",
       "      <td>9</td>\n",
       "      <td>0.018091</td>\n",
       "      <td>dntp_binding_6</td>\n",
       "    </tr>\n",
       "    <tr>\n",
       "      <td>33</td>\n",
       "      <td>72</td>\n",
       "      <td>0.017171</td>\n",
       "      <td>conservative_11</td>\n",
       "    </tr>\n",
       "    <tr>\n",
       "      <td>34</td>\n",
       "      <td>57</td>\n",
       "      <td>0.014086</td>\n",
       "      <td>replication_activity_17</td>\n",
       "    </tr>\n",
       "    <tr>\n",
       "      <td>35</td>\n",
       "      <td>53</td>\n",
       "      <td>0.013451</td>\n",
       "      <td>replication_activity_13</td>\n",
       "    </tr>\n",
       "    <tr>\n",
       "      <td>36</td>\n",
       "      <td>94</td>\n",
       "      <td>0.011153</td>\n",
       "      <td>conservative_33</td>\n",
       "    </tr>\n",
       "    <tr>\n",
       "      <td>37</td>\n",
       "      <td>70</td>\n",
       "      <td>0.009658</td>\n",
       "      <td>conservative_9</td>\n",
       "    </tr>\n",
       "    <tr>\n",
       "      <td>38</td>\n",
       "      <td>74</td>\n",
       "      <td>0.009607</td>\n",
       "      <td>conservative_13</td>\n",
       "    </tr>\n",
       "    <tr>\n",
       "      <td>39</td>\n",
       "      <td>103</td>\n",
       "      <td>0.007543</td>\n",
       "      <td>pockets_4</td>\n",
       "    </tr>\n",
       "    <tr>\n",
       "      <td>40</td>\n",
       "      <td>35</td>\n",
       "      <td>0.007353</td>\n",
       "      <td>Mg_1</td>\n",
       "    </tr>\n",
       "    <tr>\n",
       "      <td>41</td>\n",
       "      <td>22</td>\n",
       "      <td>0.006766</td>\n",
       "      <td>exonuclease_4</td>\n",
       "    </tr>\n",
       "    <tr>\n",
       "      <td>42</td>\n",
       "      <td>95</td>\n",
       "      <td>0.004624</td>\n",
       "      <td>ssbonds_0</td>\n",
       "    </tr>\n",
       "    <tr>\n",
       "      <td>43</td>\n",
       "      <td>6</td>\n",
       "      <td>0.003347</td>\n",
       "      <td>dntp_binding_3</td>\n",
       "    </tr>\n",
       "    <tr>\n",
       "      <td>44</td>\n",
       "      <td>81</td>\n",
       "      <td>0.000613</td>\n",
       "      <td>conservative_20</td>\n",
       "    </tr>\n",
       "  </tbody>\n",
       "</table>\n",
       "</div>"
      ],
      "text/plain": [
       "    col_name  feature_importance_vals                 new_name\n",
       "0         67                 1.373504           conservative_6\n",
       "1         28                 1.010077           exonuclease_10\n",
       "2         37                 0.750144                     Mg_3\n",
       "3         15                 0.619701         primer_binding_5\n",
       "4          8                 0.460686           dntp_binding_5\n",
       "5         25                 0.307692            exonuclease_7\n",
       "6         55                 0.303968  replication_activity_15\n",
       "7         30                 0.295330           exonuclease_12\n",
       "8         34                 0.265571                     Mg_0\n",
       "9         48                 0.246468   replication_activity_8\n",
       "10        33                 0.224774           exonuclease_15\n",
       "11        54                 0.207742  replication_activity_14\n",
       "12        23                 0.100029            exonuclease_5\n",
       "13        76                 0.095374          conservative_15\n",
       "14       101                 0.068633                pockets_2\n",
       "15        93                 0.067516          conservative_32\n",
       "16        86                 0.065867          conservative_25\n",
       "17        58                 0.059054  replication_activity_18\n",
       "18        88                 0.052080          conservative_27\n",
       "19       104                 0.051134                pockets_5\n",
       "20         7                 0.046404           dntp_binding_4\n",
       "21        19                 0.041360            exonuclease_1\n",
       "22         0                 0.041221              catalytic_0\n",
       "23        50                 0.035414  replication_activity_10\n",
       "24        77                 0.034900          conservative_16\n",
       "25        64                 0.033074           conservative_3\n",
       "26        43                 0.032735   replication_activity_3\n",
       "27        12                 0.031605         primer_binding_2\n",
       "28        21                 0.030326            exonuclease_3\n",
       "29        79                 0.029697          conservative_18\n",
       "30        49                 0.026551   replication_activity_9\n",
       "31        99                 0.024211                pockets_0\n",
       "32         9                 0.018091           dntp_binding_6\n",
       "33        72                 0.017171          conservative_11\n",
       "34        57                 0.014086  replication_activity_17\n",
       "35        53                 0.013451  replication_activity_13\n",
       "36        94                 0.011153          conservative_33\n",
       "37        70                 0.009658           conservative_9\n",
       "38        74                 0.009607          conservative_13\n",
       "39       103                 0.007543                pockets_4\n",
       "40        35                 0.007353                     Mg_1\n",
       "41        22                 0.006766            exonuclease_4\n",
       "42        95                 0.004624                ssbonds_0\n",
       "43         6                 0.003347           dntp_binding_3\n",
       "44        81                 0.000613          conservative_20"
      ]
     },
     "execution_count": 384,
     "metadata": {},
     "output_type": "execute_result"
    }
   ],
   "source": [
    "y.head(45)"
   ]
  },
  {
   "cell_type": "code",
   "execution_count": 387,
   "metadata": {},
   "outputs": [
    {
     "data": {
      "text/html": [
       "['conservative_6', 'exonuclease_10', 'Mg_3', 'primer_binding_5', 'dntp_binding_5', 'exonuclease_7', 'replication_activity_15', 'exonuclease_12', 'Mg_0', 'replication_activity_8', 'exonuclease_15', 'replication_activity_14']"
      ],
      "text/plain": [
       "['conservative_6',\n",
       " 'exonuclease_10',\n",
       " 'Mg_3',\n",
       " 'primer_binding_5',\n",
       " 'dntp_binding_5',\n",
       " 'exonuclease_7',\n",
       " 'replication_activity_15',\n",
       " 'exonuclease_12',\n",
       " 'Mg_0',\n",
       " 'replication_activity_8',\n",
       " 'exonuclease_15',\n",
       " 'replication_activity_14']"
      ]
     },
     "execution_count": 387,
     "metadata": {},
     "output_type": "execute_result"
    }
   ],
   "source": [
    "list(y.new_name[0:12])"
   ]
  },
  {
   "cell_type": "code",
   "execution_count": 342,
   "metadata": {},
   "outputs": [],
   "source": [
    "y.to_csv(\"feature_importance.csv\")"
   ]
  }
 ],
 "metadata": {
  "kernelspec": {
   "display_name": "Python 3",
   "language": "python",
   "name": "python3"
  },
  "language_info": {
   "codemirror_mode": {
    "name": "ipython",
    "version": 3
   },
   "file_extension": ".py",
   "mimetype": "text/x-python",
   "name": "python",
   "nbconvert_exporter": "python",
   "pygments_lexer": "ipython3",
   "version": "3.6.8"
  }
 },
 "nbformat": 4,
 "nbformat_minor": 4
}
